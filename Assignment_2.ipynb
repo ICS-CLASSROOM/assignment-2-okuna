{
 "cells": [
  {
   "cell_type": "code",
   "execution_count": 1,
   "id": "1443cdff",
   "metadata": {},
   "outputs": [],
   "source": [
    "import re\n"
   ]
  },
  {
   "cell_type": "markdown",
   "id": "9aa8d15e",
   "metadata": {},
   "source": [
    "# Assignment 2: Analyzing large datasets with Spark.\n",
    "\n",
    "\n",
    "For this assignment, you will need to make sure you're running from a PySpark docker environment I introduced in class. You can start the docker pySpark docker environment using the following command:\n",
    "\n",
    "```\n",
    "docker run --rm -p 4040:4040 -p 8888:8888 -v $(pwd):/home/jovyan/work jupyter/all-spark-notebook\n",
    "```\n",
    "\n",
    "Make sure you run the command from the directory containing this jupyter notebook and your data folder.\n",
    "\n",
    "\n",
    "</b>\n",
    "# WARNING: For some reason, ipynbb document didn't always sync properly when I was pushing to github. As such, please push often and make sure your incremental changes appear on GitHub.\n",
    "</b>"
   ]
  },
  {
   "cell_type": "markdown",
   "id": "66b0d3e6",
   "metadata": {},
   "source": [
    "### Part 1\n",
    "\n",
    "The first part will use Spark to analyze the following books, which I have downloaded for you to use from Project Gutenberg. The files are saved to the data folder.\n",
    "\n",
    "| File name | Book Title|\n",
    "|:---------:|:----------|\n",
    "|43.txt | The Strange Case of Dr. Jekyll and Mr. Hyde by Robert Louis Stevenson|\n",
    "|84.txt | Frankenstein; Or, The Modern Prometheus by Mary Wollstonecraft Shelley |\n",
    "|398.txt  | The First Book of Adam and Eve by Rutherford Hayes Platt|\n",
    "|3296.txt | The Confessions of St. Augustine by Bishop of Hippo Saint Augustine|\n",
    "\n",
    "The objective is to explore whether we can detect similarity between books within the same topic using word-based similarity. \n",
    "\n",
    "The task of identifying similar texts in Natural Language Processing is crucial. A naive method for determining whether two documents are similar is to treat them as collections of words (bag of words) and use the number of words they share as a proxy for their similarity. It makes sense that two books with religion as the topic (e.g.  `398.txt` and `3296.txt`) would have more words in common than a book that discusses religion and a book that discusses science fiction (e.g. books `84.txt` and `398.txt`). \n",
    "\n",
    "As mentioned above, we will be using Spark to analyze the data. Although Spark is not needed for such a small example, the platform would be ideal for analyzing very large collections of documents, like those often analyzed by large corporations\n",
    "\n",
    "This part of the assignment will rely exclusively on RDDs."
   ]
  },
  {
   "cell_type": "markdown",
   "id": "87a15530",
   "metadata": {},
   "source": [
    "### Q1. \n",
    "Start by importing Spark and making sure your environment is set up properly for the assignment.\n",
    "\n",
    "Import the spark context necessary to load a document as an RDD; ignore any error messages"
   ]
  },
  {
   "cell_type": "code",
   "execution_count": 2,
   "id": "e80df4d4",
   "metadata": {},
   "outputs": [],
   "source": [
    "import pyspark\n",
    "from pyspark.context import SparkContext, SparkConf"
   ]
  },
  {
   "cell_type": "markdown",
   "id": "336d5c9d",
   "metadata": {},
   "source": [
    "### Q2 \n",
    "\n",
    "Read in the file `43.txt` as a spark RDD and save it to a variable called `book_43`\n",
    " * make sure `book_43` is of type MapPartitionsRDD, i.e.,\n",
    "   * str(type(book_43)) == \"<class 'pyspark.rdd.RDD'>\" should return True "
   ]
  },
  {
   "cell_type": "code",
   "execution_count": 3,
   "id": "3d4164f5",
   "metadata": {},
   "outputs": [
    {
     "name": "stderr",
     "output_type": "stream",
     "text": [
      "WARNING: An illegal reflective access operation has occurred\n",
      "WARNING: Illegal reflective access by org.apache.spark.unsafe.Platform (file:/usr/local/spark-3.2.0-bin-hadoop3.2/jars/spark-unsafe_2.12-3.2.0.jar) to constructor java.nio.DirectByteBuffer(long,int)\n",
      "WARNING: Please consider reporting this to the maintainers of org.apache.spark.unsafe.Platform\n",
      "WARNING: Use --illegal-access=warn to enable warnings of further illegal reflective access operations\n",
      "WARNING: All illegal access operations will be denied in a future release\n",
      "Using Spark's default log4j profile: org/apache/spark/log4j-defaults.properties\n",
      "Setting default log level to \"WARN\".\n",
      "To adjust logging level use sc.setLogLevel(newLevel). For SparkR, use setLogLevel(newLevel).\n",
      "21/11/09 04:28:54 WARN NativeCodeLoader: Unable to load native-hadoop library for your platform... using builtin-java classes where applicable\n"
     ]
    },
    {
     "data": {
      "text/plain": [
       "True"
      ]
     },
     "execution_count": 3,
     "metadata": {},
     "output_type": "execute_result"
    }
   ],
   "source": [
    "conf = SparkConf().setAppName(\"test\")\n",
    "sc = SparkContext(conf=conf)\n",
    " \n",
    "# read input text file to RDD\n",
    "book_43 = sc.textFile(\"data/43.txt\")\n",
    "str(type(book_43)) == \"<class 'pyspark.rdd.RDD'>\""
   ]
  },
  {
   "cell_type": "markdown",
   "id": "0b8c051e",
   "metadata": {},
   "source": [
    "### Q3\n",
    "\n",
    "How many lines does `book_43` contain?\n",
    "* You can only use operations or actions on RDDs to answer the question. \n",
    "  * Code that uses methods such as `some_rdd.X().Y().Z()...` is allowed\n",
    "  * Code that uses functions such as `some_func(...)` is not allowed"
   ]
  },
  {
   "cell_type": "code",
   "execution_count": 4,
   "id": "b3c5a06e",
   "metadata": {},
   "outputs": [
    {
     "name": "stderr",
     "output_type": "stream",
     "text": [
      "                                                                                \r"
     ]
    },
    {
     "data": {
      "text/plain": [
       "2935"
      ]
     },
     "execution_count": 4,
     "metadata": {},
     "output_type": "execute_result"
    }
   ],
   "source": [
    "book_43.count()"
   ]
  },
  {
   "cell_type": "markdown",
   "id": "bca2bc6d",
   "metadata": {},
   "source": [
    "### Q4 \n",
    "\n",
    "Prior to analyzing the words contained in this book, we need to first remove the occurrences of non-alphabetical characters and numbers from the text. You can use the following function, which takes a line as input, removes digits and non-word characters, and splits it into a collection of words. \n",
    "\n",
    "```python\n",
    "def clean_split_line(line):\n",
    "    a = re.sub('\\d+', '', line)\n",
    "    b = re.sub('[\\W]+', ' ', a)\n",
    "    return b.upper().split()\n",
    "```\n",
    "\n",
    "Use the fucntion above on the variable (test_line) to see what it returns.\n",
    "```python\n",
    "test_line = \"This is an example of that contains 234 and a dash-containing number\"\n",
    "```"
   ]
  },
  {
   "cell_type": "code",
   "execution_count": 5,
   "id": "55ce2754",
   "metadata": {},
   "outputs": [
    {
     "data": {
      "text/plain": [
       "['THIS',\n",
       " 'IS',\n",
       " 'AN',\n",
       " 'EXAMPLE',\n",
       " 'OF',\n",
       " 'THAT',\n",
       " 'CONTAINS',\n",
       " 'AND',\n",
       " 'A',\n",
       " 'DASH',\n",
       " 'CONTAINING',\n",
       " 'NUMBER']"
      ]
     },
     "execution_count": 5,
     "metadata": {},
     "output_type": "execute_result"
    }
   ],
   "source": [
    "def clean_split_line(line):\n",
    "    a = re.sub('\\d+', '', line)\n",
    "    b = re.sub('[\\W]+', ' ', a)\n",
    "    return b.upper().split()\n",
    "\n",
    "test_line = \"This is an example of that contains 234 and a dash-containing number\"\n",
    "\n",
    "clean_split_line(test_line)"
   ]
  },
  {
   "cell_type": "markdown",
   "id": "b5e951e5",
   "metadata": {},
   "source": [
    "### Q5\n",
    "\n",
    "How many words does `book_43` contain? To answer this question, you may find it useful to apply the function in a spark-fashion. \n",
    "* You can only use operations or actions on RDDs to answer the question. \n",
    "  * Code that uses methods such as `some_rdd.X().Y().Z()...` is allowed\n",
    "  * Code that uses functions such as `some_func(...)` is not allowed\n"
   ]
  },
  {
   "cell_type": "code",
   "execution_count": 6,
   "id": "99c1b93f",
   "metadata": {},
   "outputs": [
    {
     "name": "stdout",
     "output_type": "stream",
     "text": [
      "29116\n"
     ]
    }
   ],
   "source": [
    "book_43_count = book_43.flatMap(lambda line: clean_split_line(line)).count()\n",
    "print(book_43_count)"
   ]
  },
  {
   "cell_type": "markdown",
   "id": "30d62952",
   "metadata": {},
   "source": [
    "### Q6\n",
    "\n",
    "How many of the words in book_43 are unique? Given that words can appear in lower, upper or mixed case (ex. The, THE, the), make sure you convert the words into lower case before counting them.\n"
   ]
  },
  {
   "cell_type": "code",
   "execution_count": 7,
   "id": "07785c77",
   "metadata": {},
   "outputs": [
    {
     "name": "stderr",
     "output_type": "stream",
     "text": [
      "\r",
      "[Stage 2:>                                                          (0 + 2) / 2]\r"
     ]
    },
    {
     "name": "stdout",
     "output_type": "stream",
     "text": [
      "4296\n"
     ]
    },
    {
     "name": "stderr",
     "output_type": "stream",
     "text": [
      "\r",
      "                                                                                \r"
     ]
    }
   ],
   "source": [
    "book_43_unique = book_43.flatMap(lambda line: clean_split_line(line.lower())).distinct()\n",
    "print(book_43_unique.count())"
   ]
  },
  {
   "cell_type": "markdown",
   "id": "91b13b79",
   "metadata": {},
   "source": [
    "### Q7\n",
    "\n",
    "* Generate an `RDD` that contains the frequency of each word in `book_43`. Call the variable `book_43_counts`. Each item in the `RDD` should be a tuple with the word as the first element of the tuple and the count as the second item of the tuple. The collection should look like the following:\n",
    "\n",
    "[('project', 88), (\"the\", 1807), ... ]\n",
    "\n",
    "* Such a collection may contain a large number of words and it would be imprudent to transfer all the words onto the same machine to display it. Instead, to explore the content of such a collection, display only the first element in your list. \n",
    "\n",
    "* Given the random nature of this operation, the first element element displayed may be different. The first entry for me was:\n",
    "```\n",
    "[('project', 88)]\n",
    "```\n",
    "\n",
    "* You can only use operations or actions to answer the question. \n",
    "* Code that uses methods such as `some_rdd.X().Y().Z()...` is allowed\n",
    "* Code that uses functions such as `some_func(...)` is not allowed\n"
   ]
  },
  {
   "cell_type": "code",
   "execution_count": 8,
   "id": "42729b95",
   "metadata": {},
   "outputs": [
    {
     "name": "stdout",
     "output_type": "stream",
     "text": [
      "('GUTENBERG', 98)\n"
     ]
    }
   ],
   "source": [
    "from operator import add\n",
    "book_43_counts = book_43.flatMap(lambda line: clean_split_line(line.lower())).map(lambda word: (word, 1)).reduceByKey(add)\n",
    "print(book_43_counts.first())"
   ]
  },
  {
   "cell_type": "markdown",
   "id": "1ee4534c",
   "metadata": {},
   "source": [
    "### Q8\n",
    "\n",
    "Sort `book_43_counts` and print the 20 most frequent words in book_43. \n",
    "  * Hint: function `sortByKey` sorts a collection of tuples on the first element element of the list. You can easily change the order of the items in each element and use `sortByKey` to sort on the second item of each element in `book_43_counts`\n",
    "  * You can only use operations or actions to answer the question. \n",
    "  * Code that uses methods such as `some_rdd.X().Y().Z()...` is allowed\n",
    "  * Code that uses functions such as `some_func(...)` is not allowed"
   ]
  },
  {
   "cell_type": "code",
   "execution_count": 9,
   "id": "d51b8ea9",
   "metadata": {},
   "outputs": [
    {
     "data": {
      "text/plain": [
       "[(1807, 'THE'),\n",
       " (1068, 'OF'),\n",
       " (1043, 'AND'),\n",
       " (726, 'TO'),\n",
       " (686, 'A'),\n",
       " (646, 'I'),\n",
       " (485, 'IN'),\n",
       " (471, 'WAS'),\n",
       " (392, 'THAT'),\n",
       " (384, 'HE'),\n",
       " (378, 'IT'),\n",
       " (312, 'YOU'),\n",
       " (308, 'MY'),\n",
       " (301, 'WITH'),\n",
       " (285, 'HIS'),\n",
       " (244, 'HAD'),\n",
       " (203, 'AS'),\n",
       " (202, 'FOR'),\n",
       " (195, 'THIS'),\n",
       " (193, 'BUT')]"
      ]
     },
     "execution_count": 9,
     "metadata": {},
     "output_type": "execute_result"
    }
   ],
   "source": [
    "book_43_counts.map(lambda word_count: (word_count[1], word_count[0])).sortByKey(False).top(20)"
   ]
  },
  {
   "cell_type": "markdown",
   "id": "13420b09",
   "metadata": {},
   "source": [
    "### Q9\n",
    "\n",
    "You must have noted that the most frequent words in `book_43_counts` include stop words such as `of`, `the`, `and`, etc.\n",
    "\n",
    "It would be inefficient to compare documents based on whether or not they contain stop words; those are common to all documents. As such, it's common to remove such stop words. The librarary `sklearn.feature_extraction` provides access to a collection of English stop words, which can be loaded using the following snippet:\n",
    "\n",
    "```\n",
    "from sklearn.feature_extraction import stop_words\n",
    "stop_words.ENGLISH_STOP_WORDS\n",
    "```\n",
    "\n",
    "* Explore ENGLISH_STOP_WORDS (it's a frozen set data structure, i.e., a set that you cannot modify) by printing any 10 words from it. \n",
    " * Hint: convert the frozen set to something you can subscript\n"
   ]
  },
  {
   "cell_type": "code",
   "execution_count": 10,
   "id": "0e0ad996",
   "metadata": {},
   "outputs": [
    {
     "data": {
      "text/plain": [
       "['whereupon',\n",
       " 'further',\n",
       " 'by',\n",
       " 'herself',\n",
       " 'co',\n",
       " 'and',\n",
       " 'thru',\n",
       " 'nine',\n",
       " 'out',\n",
       " 'hereby']"
      ]
     },
     "execution_count": 10,
     "metadata": {},
     "output_type": "execute_result"
    }
   ],
   "source": [
    "from sklearn.feature_extraction import _stop_words\n",
    "stop_words = list(_stop_words.ENGLISH_STOP_WORDS)\n",
    "stop_words[:10]"
   ]
  },
  {
   "cell_type": "markdown",
   "id": "625eb521",
   "metadata": {},
   "source": [
    "### Q10\n",
    "\n",
    "Filter out the words in `book_43_counts` by removing those that appear in the ENGLISH_STOP_WORDS.\n",
    "Save the results to a new variable called `book_43_counts_filtered`\n",
    "  * You can only use operarations or actions on RDDs to answer the question. \n",
    "  * Code that uses methods such as `some_rdd.X().Y().Z()...` is allowed\n",
    "  * Code that uses function such as `some_func(...)` is not allowed\n"
   ]
  },
  {
   "cell_type": "code",
   "execution_count": 11,
   "id": "5602b4ff",
   "metadata": {},
   "outputs": [],
   "source": [
    "book_43_counts_filtered = book_43_counts.subtractByKey(sc.parallelize(stop_words).map(lambda x: (x.upper(), 0)))\n"
   ]
  },
  {
   "cell_type": "markdown",
   "id": "3d0b3a80",
   "metadata": {},
   "source": [
    "### Q11\n",
    "\n",
    "* How many words are left in `book_43_counts_filtered` after removing the stop words"
   ]
  },
  {
   "cell_type": "code",
   "execution_count": 12,
   "id": "a5bdf083",
   "metadata": {},
   "outputs": [
    {
     "data": {
      "text/plain": [
       "4034"
      ]
     },
     "execution_count": 12,
     "metadata": {},
     "output_type": "execute_result"
    }
   ],
   "source": [
    "book_43_counts_filtered.count()"
   ]
  },
  {
   "cell_type": "markdown",
   "id": "23ffd755",
   "metadata": {},
   "source": [
    "### Q12 \n",
    "\n",
    "* Create a function called *process_RDD* that combines the relevant steps you proposed above to make it convenient to apply them to the remaining four books. Your function should accept an input text file path and:\n",
    " * Reads in the file as a textRDD\n",
    " * Cleans and splits the line using `clean_split_line`\n",
    " * Filters out the stop words\n",
    " * Returns a word count RDD where each item is a tuple of words and its count.\n",
    " \n"
   ]
  },
  {
   "cell_type": "code",
   "execution_count": 13,
   "id": "eff5d5e8",
   "metadata": {},
   "outputs": [],
   "source": [
    "def process_RDD(filename):\n",
    "    rdd = sc.textFile(\"data/\" + filename)\n",
    "    cleaned_rdd = rdd.flatMap(lambda line: clean_split_line(line))\n",
    "    reduced_rdd = cleaned_rdd.map(lambda word: (word, 1)).reduceByKey(add)\n",
    "    removed_stopwords_rdd = reduced_rdd.subtractByKey(sc.parallelize(stop_words).map(lambda x: (x.upper(), 0)))\n",
    "    return removed_stopwords_rdd"
   ]
  },
  {
   "cell_type": "markdown",
   "id": "ba59c9c5",
   "metadata": {},
   "source": [
    "### Q13 \n",
    "\n",
    "Apply the function `process_RDD` to `book_84`, `book_398` and `book_3296` and save the results to variables `book_84_counts_filtered`, `book_398_counts_filtered` and `book_3296_counts_filtered` respectively. How many distinct words does each book contain after filtering the stop words.\n",
    "\n"
   ]
  },
  {
   "cell_type": "code",
   "execution_count": 14,
   "id": "08a24f66",
   "metadata": {},
   "outputs": [
    {
     "name": "stdout",
     "output_type": "stream",
     "text": [
      "7016\n",
      "2421\n",
      "7293\n"
     ]
    }
   ],
   "source": [
    "book_84_counts_filtered = process_RDD(\"84.txt\")\n",
    "book_398_counts_filtered = process_RDD(\"398.txt\")\n",
    "book_3296_counts_filtered = process_RDD(\"3296.txt\")\n",
    "\n",
    "print(book_84_counts_filtered.count())\n",
    "print(book_398_counts_filtered.count())\n",
    "print(book_3296_counts_filtered.count())\n"
   ]
  },
  {
   "cell_type": "markdown",
   "id": "7fb9680f",
   "metadata": {},
   "source": [
    "### Q14 \n",
    "\n",
    "We discussed how to evaluate similarity between two texts using the number of words they share. We hypothesized that books that are similar should have more words in common than books that are dissimilar. If that holds, `book_398` and `book_3296`, which both pertain to religion, will have more words in common than, say, `book_84` and `book_398`. Test this hypothesis by writing code that compares and prints the number of words shared between `book_398` and `book_3296` and then between `book_84` and `book_398`.\n"
   ]
  },
  {
   "cell_type": "code",
   "execution_count": 15,
   "id": "ac6b73e0",
   "metadata": {},
   "outputs": [
    {
     "name": "stdout",
     "output_type": "stream",
     "text": [
      "book 3296 and book 398:  1790\n",
      "book 84 and book 398:  1691\n"
     ]
    }
   ],
   "source": [
    "print(\"book 3296 and book 398: \", book_3296_counts_filtered.join(book_398_counts_filtered).count())\n",
    "print(\"book 84 and book 398: \", book_84_counts_filtered.join(book_398_counts_filtered).count())"
   ]
  },
  {
   "cell_type": "markdown",
   "id": "cef9f326",
   "metadata": {},
   "source": [
    "### Q15\n",
    "\n",
    "* Based on the above, do you think counting the number of shared words is a good idea as a distance metric for evaluating topic similarity? Justify your answer?\n",
    "* Hint: What do *book_84* and *book_3296* have in common? "
   ]
  },
  {
   "cell_type": "markdown",
   "id": "6587ae14",
   "metadata": {},
   "source": [
    "#### Write your answer here\n",
    "\n",
    "Shared words is probably not a great way of evaluating topic similarity. A quick Internet search uncovers that *Book_84* and *Book_3296* were both originally published in 1816 and 1838, respectively, so the shared words between them are more likely a result of them being published in the same time period. \n",
    "\n"
   ]
  },
  {
   "cell_type": "markdown",
   "id": "a6f8f857",
   "metadata": {},
   "source": [
    "## Part II \n",
    "\n",
    "Another approach to estimating similarity consists of computing the Euclidean distance across a set of words. For example, suppose we have 3 documents A, B and C with the following counts for the words `evolution`, `DNA`, `biology` and `finance`. \n",
    "\n",
    "```python \n",
    "A = [4, 9, 6, 8]\n",
    "B = [3, 7, 7, 10]\n",
    "C = [15, 10, 1, 1]\n",
    "```\n",
    "Although all documents contain exactly the four words, the number of times these words appear in each book may be indicative of thier topic. For example, documents `A` and `B` are more likely to be business related since they contain the word `finance` more frequently (8 and 10 times respectively). Document `C` may be a technical document since it focuses on more technical words (`evolution` and `DNA`) and less on the words `finance`.\n",
    "\n",
    "The Euclidean distance, which can be computed using the `scikit` snippet below, is more indicative of topic-relatedness between the two documents.\n",
    "\n",
    "```python\n",
    "from scipy.spatial.distance import euclidean \n",
    "print(f\"The Euclidean distance between A and B is: {euclidean(A, B)}\")\n",
    "\n",
    "print(f\"The Euclidean distance between A and C is: {euclidean(A, C)}\")\n",
    "\n",
    "print(f\"The Euclidean distance between B and C is: {euclidean(B, C)}\")\n",
    "```\n"
   ]
  },
  {
   "cell_type": "markdown",
   "id": "9abdc35e",
   "metadata": {},
   "source": [
    "### Q16\n",
    "\n",
    "To calculate the Euclidean distance, we must first identify the set of words by which we will compare the documents. Here, we will explore the words that are common to all 4 documents. We will store the data in a matrix called `counts_matrix`.\n",
    "\n",
    "Start by finding the words that are common to all four documents after stop-word filtering and store the counts for each word in a column of `counts_matrix`. \n",
    "\n",
    "To take the previous example, you can generate an emtpy matrix with 3 lines (documents `A`, `B` and `C`) and 4 columns (words `evolution`, `DNA`, `biology` and `finance`) using the following code.\n",
    "\n",
    "```python\n",
    "import numpy as np\n",
    "counts_matrix = np.zeros([3,4])\n",
    "```\n",
    "\n",
    "After generting the counts, you can fill the counts for a document, say `A`, using the following code:\n",
    "\n",
    "```python\n",
    "counts_matrix[0, :] = [4, 9, 6, 8] \n",
    "```\n",
    "* Other than for building `counts_matrix` you should exclusively use operations or actions on the `RDD` to answer this question. \n",
    "  * Code that uses methods such as `some_rdd.X().Y().Z()...` is allowed\n",
    "  * Code that uses functions such as `some_func(...)` is not allowed\n"
   ]
  },
  {
   "cell_type": "code",
   "execution_count": 16,
   "id": "c3cae946",
   "metadata": {},
   "outputs": [
    {
     "name": "stdout",
     "output_type": "stream",
     "text": [
      "[[97. 37.  4. ...  1.  1.  1.]\n",
      " [93. 15.  1. ...  1.  1.  1.]\n",
      " [98. 23.  3. ...  1.  1.  2.]\n",
      " [98. 19.  2. ...  1.  1.  1.]]\n"
     ]
    }
   ],
   "source": [
    "import numpy as np\n",
    "import functools\n",
    "\n",
    "initial_join = book_3296_counts_filtered.join(book_398_counts_filtered).join(book_84_counts_filtered).join(book_43_counts_filtered)\n",
    "joined = initial_join.mapValues(lambda x: (x[0][0] + (x[0][1],) + (x[1],)))\n",
    "\n",
    "#print(initial_join.top(20))\n",
    "#print(joined.top(20))\n",
    "\n",
    "counts_matrix = np.zeros([4,joined.count()])\n",
    "\n",
    "for i in range(4):\n",
    "    counts_matrix[i, :] = joined.mapValues(lambda x: x[i]).values().collect()\n",
    "    \n",
    "print(counts_matrix)"
   ]
  },
  {
   "cell_type": "markdown",
   "id": "124bcdd8",
   "metadata": {},
   "source": [
    "### Q17\n",
    "\n",
    "Compute the Euclidean distance between `book_398` and `book_3296`, which both talk about religion and `book_84` and `book_398`. What do you conclude about using the Euclidean distance for evaluating topic relatedness across documents?\n"
   ]
  },
  {
   "cell_type": "code",
   "execution_count": 17,
   "id": "7b6a81dd",
   "metadata": {},
   "outputs": [
    {
     "name": "stdout",
     "output_type": "stream",
     "text": [
      "The Euclidean distance between 398 and 3296 is: 1156.6628722320086\n",
      "The Euclidean distance between 84 and 398 is: 751.6688100486809\n"
     ]
    }
   ],
   "source": [
    "from scipy.spatial.distance import euclidean \n",
    "\n",
    "print(f\"The Euclidean distance between 398 and 3296 is: {euclidean(counts_matrix[0], counts_matrix[1])}\")\n",
    "print(f\"The Euclidean distance between 84 and 398 is: {euclidean(counts_matrix[2], counts_matrix[1])}\")"
   ]
  },
  {
   "cell_type": "markdown",
   "id": "89981b46",
   "metadata": {},
   "source": [
    "#### Write your justification here\n",
    "\n",
    "Unless I've done something wrong, it seems like using euclidean distance is worse than just using the number of matching words, but I checked my work several times and can't find an error! So it seems like Euclidean distance is a poor choice. \n"
   ]
  },
  {
   "cell_type": "markdown",
   "id": "3f4e54e6",
   "metadata": {},
   "source": [
    "### Q18\n",
    "\n",
    "Bonus question (5 points): Can you think of a few things we could do to improve similarity between documents that pertain to the same topic. Justify your answer without giving code\n",
    "\n",
    "\n"
   ]
  },
  {
   "cell_type": "markdown",
   "id": "5c8c6de1",
   "metadata": {},
   "source": [
    "#### Write your answer here\n",
    "\n",
    "I think that we should run the euclidean distance, but on categorized sets of words instead of all matching words. Similarly to the example given, we could categorize a list of words as being \"religious\", and then compare similarity between documents against the religious dataset. \n",
    "\n",
    "\n",
    "\n"
   ]
  },
  {
   "cell_type": "markdown",
   "id": "aedf1d74",
   "metadata": {},
   "source": [
    "## Part III\n",
    "\n",
    "In this part we will build some basic analytics for a dataset consisting of flight arrival and departure details for all commercial flights within the USA in one month. While this dataset can be managed using Pandas (<1M records), scaling to a yearly or longer timeframe will greatly benefit from using a distributed computing framework such as `Spark`.\n",
    "\n",
    "Here, you should use exclusively `SparkDatFrames. \n",
    "\n",
    "We want to analyze this dataset to better schedule trips.  For example:\n",
    " * Avoid airlines carriers that are most often associated with delays.\n",
    " * Avoid departure days where delays are most frequent.\n",
    " * Avoid airports which are associated with delays or long taxxying time.\n",
    "* etc.\n",
    " \n",
    "\n",
    "The information about the fields contained in the data file can be found [here](https://dataverse.harvard.edu/dataset.xhtml;jsessionid=0414e25969eccd0e88ae4d64fa0b?persistentId=doi%3A10.7910%2FDVN%2FHG7NV7&version=&q=&fileTypeGroupFacet=&fileTag=%221.+Documentation%22&fileSortField=date&fileSortOrder=desc)\n"
   ]
  },
  {
   "cell_type": "markdown",
   "id": "149805af",
   "metadata": {},
   "source": [
    "### Q19\n",
    "\n",
    "Load the file `flight_info.csv` into a spark `DataFrame` called `fight_info`.\n",
    "\n",
    "  * Note that you will need to create a sparkSession prior to loading the data\n",
    "  \n",
    "* How many entries does the file contain?\n",
    "\n"
   ]
  },
  {
   "cell_type": "code",
   "execution_count": 18,
   "id": "3ad5e6ad",
   "metadata": {},
   "outputs": [
    {
     "data": {
      "text/plain": [
       "450017"
      ]
     },
     "execution_count": 18,
     "metadata": {},
     "output_type": "execute_result"
    }
   ],
   "source": [
    "from pyspark.sql import SparkSession\n",
    "spark = SparkSession(sc)\n",
    "\n",
    "flight_info = spark.read.option(\"header\", \"true\").csv(\"data/flight_info.csv\")\n",
    "\n",
    "flight_info.count()\n"
   ]
  },
  {
   "cell_type": "markdown",
   "id": "4fad81f1",
   "metadata": {},
   "source": [
    "### Q20\n",
    "\n",
    "Use `pySpark-SQL` or `pandas-like syntax to compute the airlines represented in this dataset\n",
    "The airline information is stored in a field called UniqueCarrier\n",
    "* UniqueCarrier: Represents the unique carrier code (ex.AA = American Airlines) \n"
   ]
  },
  {
   "cell_type": "code",
   "execution_count": 19,
   "id": "73fd7b0b",
   "metadata": {},
   "outputs": [
    {
     "name": "stderr",
     "output_type": "stream",
     "text": [
      "[Stage 84:=======>                                                  (1 + 7) / 8]\r"
     ]
    },
    {
     "name": "stdout",
     "output_type": "stream",
     "text": [
      "+-------------+\n",
      "|UniqueCarrier|\n",
      "+-------------+\n",
      "|           NK|\n",
      "|           AA|\n",
      "|           EV|\n",
      "|           B6|\n",
      "|           DL|\n",
      "|           F9|\n",
      "|           HA|\n",
      "|           UA|\n",
      "|           OO|\n",
      "|           WN|\n",
      "|           AS|\n",
      "|           VX|\n",
      "+-------------+\n",
      "\n"
     ]
    },
    {
     "name": "stderr",
     "output_type": "stream",
     "text": [
      "\r",
      "                                                                                \r"
     ]
    }
   ],
   "source": [
    "### Write your code here\n",
    "\n",
    "flight_info.select(\"UniqueCarrier\").distinct().show()"
   ]
  },
  {
   "cell_type": "markdown",
   "id": "1349b2f5",
   "metadata": {},
   "source": [
    "### Q21\n",
    "\n",
    "The data file contains various other fields, two of which are useful for answering the next question.\n",
    "\n",
    "* CRSDepTime: Represents the scheduled departure time\n",
    "* DepTime: Represents the actual departure time\n",
    "\n",
    "Compute the number of flights delayed per each carried code represented in this dataset. Sort the data by decreasing order of delays.\n",
    "  * A delay is observed when `DepTime` > `CRSDepTime`\n"
   ]
  },
  {
   "cell_type": "code",
   "execution_count": 20,
   "id": "c72cff25",
   "metadata": {},
   "outputs": [
    {
     "name": "stderr",
     "output_type": "stream",
     "text": [
      "[Stage 87:=====================>                                    (3 + 5) / 8]\r"
     ]
    },
    {
     "name": "stdout",
     "output_type": "stream",
     "text": [
      "+-------------+-----+\n",
      "|UniqueCarrier|count|\n",
      "+-------------+-----+\n",
      "|           WN|54557|\n",
      "|           DL|28962|\n",
      "|           AA|26291|\n",
      "|           UA|19594|\n",
      "|           OO|17924|\n",
      "|           EV|12340|\n",
      "|           B6|10406|\n",
      "|           AS| 4966|\n",
      "|           NK| 4435|\n",
      "|           F9| 3181|\n",
      "|           VX| 2871|\n",
      "|           HA| 2265|\n",
      "+-------------+-----+\n",
      "\n"
     ]
    },
    {
     "name": "stderr",
     "output_type": "stream",
     "text": [
      "\r",
      "                                                                                \r"
     ]
    }
   ],
   "source": [
    "carrier_delay = flight_info\\\n",
    "    .filter('DepTime > CRSDepTime')\\\n",
    "    .groupBy('UniqueCarrier')\\\n",
    "    .count()\\\n",
    "    .orderBy(\"count\", ascending=False)\n",
    "\n",
    "carrier_delay.show()"
   ]
  },
  {
   "cell_type": "markdown",
   "id": "1645593b",
   "metadata": {},
   "source": [
    "### Q22\n",
    "\n",
    " Use the file `airlines.csv` to find the the complete name of the airline. Here, you are required to load the file as a pyspark DataFrame; call it `airlines_info`, and repeat the query above while including the `flights.csv `file in your query ( requires doing a `join`) so that you can also display the full name of the carrier (second column). \n",
    "\n",
    "The result will look (approximately) like:\n",
    "\n",
    "```\n",
    "[Row(UniqueCarrier='WN', first(_c1)='Southwest Airlines', count=SOME_count),\n",
    " Row(UniqueCarrier='DL', first(_c1)='Delta Air Lines', count=SOME_count),\n",
    " Row(UniqueCarrier='AA', first(_c1)='American Airlines', count=SOME_count),\n",
    " ...\n",
    " ]\n",
    "```\n",
    "\n",
    "The carrier code in the `airlines.csv` file is provided in the 4th (1-based) column\n",
    "\n",
    "Note that the file `airlines.csv` does not have column header. Hence, you need to print one line of your dataset to see what names Spark gave to the columns. Use the name provided by Spark in your query."
   ]
  },
  {
   "cell_type": "code",
   "execution_count": 21,
   "id": "30cea22b",
   "metadata": {},
   "outputs": [
    {
     "name": "stderr",
     "output_type": "stream",
     "text": [
      "                                                                                \r"
     ]
    },
    {
     "name": "stdout",
     "output_type": "stream",
     "text": [
      "+-------------+-----+--------------------+\n",
      "|UniqueCarrier|count|                 _c1|\n",
      "+-------------+-----+--------------------+\n",
      "|           WN|54557|  Southwest Airlines|\n",
      "|           DL|28962|     Delta Air Lines|\n",
      "|           AA|26291|   American Airlines|\n",
      "|           UA|19594|     United Airlines|\n",
      "|           OO|17924|             SkyWest|\n",
      "|           EV|12340|Atlantic Southeas...|\n",
      "|           B6|10406|     JetBlue Airways|\n",
      "|           AS| 4966|     Alaska Airlines|\n",
      "|           NK| 4435|     Spirit Airlines|\n",
      "|           F9| 3181|   Frontier Airlines|\n",
      "|           VX| 2871|      Virgin America|\n",
      "|           HA| 2265|   Hawaiian Airlines|\n",
      "+-------------+-----+--------------------+\n",
      "\n"
     ]
    }
   ],
   "source": [
    "airlines_info = spark.read.csv(\"data/airlines.csv\")\n",
    "airlines_info.first()\n",
    "\n",
    "carrier_delay\\\n",
    "    .join(airlines_info.select(\"_c3\", \"_c1\"), carrier_delay.UniqueCarrier == airlines_info[3], how=\"left\")\\\n",
    "    .select(\"UniqueCarrier\", \"count\", \"_c1\")\\\n",
    "    .show()\n"
   ]
  },
  {
   "cell_type": "markdown",
   "id": "4e0123a8",
   "metadata": {},
   "source": [
    "### Q23\n",
    "\n",
    "Compute the number of delays per company per day. The day is encoded as an integer in the column `DayOfWeek` in `fight_info`. You can display the day as an integer or map it into a string name of the week.\n",
    "Sort the data by airline code (UniqueCarrier) and by increasing values of DayOfWeek\n",
    "\n",
    "\n",
    "You results should look like the following\n",
    "\n"
   ]
  },
  {
   "cell_type": "code",
   "execution_count": 22,
   "id": "f9971baa",
   "metadata": {},
   "outputs": [
    {
     "name": "stderr",
     "output_type": "stream",
     "text": [
      "\r",
      "[Stage 101:=======>                                                 (1 + 7) / 8]\r"
     ]
    },
    {
     "name": "stdout",
     "output_type": "stream",
     "text": [
      "+-------------+---------+-----+\n",
      "|UniqueCarrier|DayOfWeek|count|\n",
      "+-------------+---------+-----+\n",
      "|           AA|        1| 5117|\n",
      "|           AA|        2| 3688|\n",
      "|           AA|        3| 2941|\n",
      "|           AA|        4| 3575|\n",
      "|           AA|        5| 3525|\n",
      "|           AA|        6| 2800|\n",
      "|           AA|        7| 4645|\n",
      "|           AS|        1|  872|\n",
      "|           AS|        2|  669|\n",
      "|           AS|        3|  618|\n",
      "|           AS|        4|  728|\n",
      "|           AS|        5|  630|\n",
      "|           AS|        6|  517|\n",
      "|           AS|        7|  932|\n",
      "|           B6|        1| 1892|\n",
      "|           B6|        2| 1787|\n",
      "|           B6|        3| 1253|\n",
      "|           B6|        4| 1254|\n",
      "|           B6|        5| 1309|\n",
      "|           B6|        6| 1027|\n",
      "+-------------+---------+-----+\n",
      "only showing top 20 rows\n",
      "\n"
     ]
    },
    {
     "name": "stderr",
     "output_type": "stream",
     "text": [
      "\r",
      "                                                                                \r"
     ]
    }
   ],
   "source": [
    "day_delay = flight_info\\\n",
    "    .filter('DepTime > CRSDepTime')\\\n",
    "    .groupBy('UniqueCarrier', 'DayOfWeek')\\\n",
    "    .count()\\\n",
    "    .orderBy(\"UniqueCarrier\", \"DayOfWeek\")\n",
    "day_delay.show()\n",
    "\n"
   ]
  },
  {
   "cell_type": "markdown",
   "id": "4c955760",
   "metadata": {},
   "source": [
    "### Q24  \n",
    "\n",
    "Counting the number of delayed flights per airline is misleading, as airlines with more flights are more likley to have delays than companies with substantially fiewer flights. \n",
    "\n",
    "Repeat the same query above but, for each carrier, normalize the counts of delays by the total number of flights for that carrier. \n"
   ]
  },
  {
   "cell_type": "code",
   "execution_count": 23,
   "id": "13ae9b5e",
   "metadata": {},
   "outputs": [
    {
     "name": "stderr",
     "output_type": "stream",
     "text": [
      "                                                                                \r"
     ]
    },
    {
     "name": "stdout",
     "output_type": "stream",
     "text": [
      "+-------------+---------+----------+--------------+----------+----------+-------------------+\n",
      "|UniqueCarrier|DayOfWeek|delayCount|UniqueCarrier1|DayOfWeek1|totalCount|    normalizedDelay|\n",
      "+-------------+---------+----------+--------------+----------+----------+-------------------+\n",
      "|           AA|        1|      5117|            AA|         1|     12165| 0.4206329634196465|\n",
      "|           AA|        2|      3688|            AA|         2|     11543|0.31950099627479855|\n",
      "|           AA|        3|      2941|            AA|         3|      9711|0.30285243538255585|\n",
      "|           AA|        4|      3575|            AA|         4|      9894|0.36133009904992924|\n",
      "|           AA|        5|      3525|            AA|         5|      9944|0.35448511665325827|\n",
      "|           AA|        6|      2800|            AA|         6|      8197| 0.3415883859948762|\n",
      "|           AA|        7|      4645|            AA|         7|     11678| 0.3977564651481418|\n",
      "|           AS|        1|       872|            AS|         1|      2454| 0.3553382233088835|\n",
      "|           AS|        2|       669|            AS|         2|      2299|0.29099608525445847|\n",
      "|           AS|        3|       618|            AS|         3|      1854| 0.3333333333333333|\n",
      "|           AS|        4|       728|            AS|         4|      1951| 0.3731419784725782|\n",
      "|           AS|        5|       630|            AS|         5|      1960|0.32142857142857145|\n",
      "|           AS|        6|       517|            AS|         6|      1798| 0.2875417130144605|\n",
      "|           AS|        7|       932|            AS|         7|      2395|0.38914405010438413|\n",
      "|           B6|        1|      1892|            B6|         1|      4130|0.45811138014527847|\n",
      "|           B6|        2|      1787|            B6|         2|      3980|0.44899497487437184|\n",
      "|           B6|        3|      1253|            B6|         3|      3164|0.39601769911504425|\n",
      "|           B6|        4|      1254|            B6|         4|      3276|0.38278388278388276|\n",
      "|           B6|        5|      1309|            B6|         5|      3268|0.40055079559363527|\n",
      "|           B6|        6|      1027|            B6|         6|      2866| 0.3583391486392184|\n",
      "+-------------+---------+----------+--------------+----------+----------+-------------------+\n",
      "only showing top 20 rows\n",
      "\n"
     ]
    }
   ],
   "source": [
    "import pyspark.sql.functions as func\n",
    "\n",
    "df_with_total_flights = flight_info\\\n",
    "    .groupBy('UniqueCarrier', 'DayOfWeek')\\\n",
    "    .count()\\\n",
    "    .orderBy(\"UniqueCarrier\", \"DayOfWeek\")\\\n",
    "    .withColumnRenamed('count', 'totalCount')\\\n",
    "    .withColumnRenamed('UniqueCarrier', 'UniqueCarrier1')\\\n",
    "    .withColumnRenamed('DayOfWeek', 'DayOfWeek1')\\\n",
    "    .distinct()\n",
    "\n",
    "day_delay_normalized = flight_info\\\n",
    "    .filter('DepTime > CRSDepTime')\\\n",
    "    .groupBy('UniqueCarrier', 'DayOfWeek')\\\n",
    "    .count()\\\n",
    "    .orderBy(\"UniqueCarrier\", \"DayOfWeek\")\\\n",
    "    .withColumnRenamed('count', 'delayCount')\n",
    "\n",
    "def normalizeFlights():     \n",
    "\n",
    "    df_joined = day_delay_normalized\\\n",
    "        .join(df_with_total_flights, \\\n",
    "              (day_delay_normalized.UniqueCarrier == df_with_total_flights.UniqueCarrier1) & \\\n",
    "              (day_delay_normalized.DayOfWeek == df_with_total_flights.DayOfWeek1), how=\"left\")\n",
    "\n",
    "    df_joined.withColumn(\"normalizedDelay\", df_joined[2] / df_joined[5]).show()\n",
    "\n",
    "normalizeFlights()"
   ]
  },
  {
   "cell_type": "markdown",
   "id": "5b73b3e4",
   "metadata": {},
   "source": [
    "### Q25 \n",
    "\n",
    "Time the query above. How long did it take to run. \n",
    "  * Make sure you run the code a few times and compute the average run time.\n",
    "  * The above should be easy to implement if you use the correct Jupyter Notebook `magic` function\n",
    "  "
   ]
  },
  {
   "cell_type": "code",
   "execution_count": 24,
   "id": "7df43da8",
   "metadata": {},
   "outputs": [
    {
     "name": "stderr",
     "output_type": "stream",
     "text": [
      "                                                                                \r"
     ]
    },
    {
     "name": "stdout",
     "output_type": "stream",
     "text": [
      "+-------------+---------+----------+--------------+----------+----------+-------------------+\n",
      "|UniqueCarrier|DayOfWeek|delayCount|UniqueCarrier1|DayOfWeek1|totalCount|    normalizedDelay|\n",
      "+-------------+---------+----------+--------------+----------+----------+-------------------+\n",
      "|           AA|        1|      5117|            AA|         1|     12165| 0.4206329634196465|\n",
      "|           AA|        2|      3688|            AA|         2|     11543|0.31950099627479855|\n",
      "|           AA|        3|      2941|            AA|         3|      9711|0.30285243538255585|\n",
      "|           AA|        4|      3575|            AA|         4|      9894|0.36133009904992924|\n",
      "|           AA|        5|      3525|            AA|         5|      9944|0.35448511665325827|\n",
      "|           AA|        6|      2800|            AA|         6|      8197| 0.3415883859948762|\n",
      "|           AA|        7|      4645|            AA|         7|     11678| 0.3977564651481418|\n",
      "|           AS|        1|       872|            AS|         1|      2454| 0.3553382233088835|\n",
      "|           AS|        2|       669|            AS|         2|      2299|0.29099608525445847|\n",
      "|           AS|        3|       618|            AS|         3|      1854| 0.3333333333333333|\n",
      "|           AS|        4|       728|            AS|         4|      1951| 0.3731419784725782|\n",
      "|           AS|        5|       630|            AS|         5|      1960|0.32142857142857145|\n",
      "|           AS|        6|       517|            AS|         6|      1798| 0.2875417130144605|\n",
      "|           AS|        7|       932|            AS|         7|      2395|0.38914405010438413|\n",
      "|           B6|        1|      1892|            B6|         1|      4130|0.45811138014527847|\n",
      "|           B6|        2|      1787|            B6|         2|      3980|0.44899497487437184|\n",
      "|           B6|        3|      1253|            B6|         3|      3164|0.39601769911504425|\n",
      "|           B6|        4|      1254|            B6|         4|      3276|0.38278388278388276|\n",
      "|           B6|        5|      1309|            B6|         5|      3268|0.40055079559363527|\n",
      "|           B6|        6|      1027|            B6|         6|      2866| 0.3583391486392184|\n",
      "+-------------+---------+----------+--------------+----------+----------+-------------------+\n",
      "only showing top 20 rows\n",
      "\n"
     ]
    },
    {
     "name": "stderr",
     "output_type": "stream",
     "text": [
      "                                                                                \r"
     ]
    },
    {
     "name": "stdout",
     "output_type": "stream",
     "text": [
      "+-------------+---------+----------+--------------+----------+----------+-------------------+\n",
      "|UniqueCarrier|DayOfWeek|delayCount|UniqueCarrier1|DayOfWeek1|totalCount|    normalizedDelay|\n",
      "+-------------+---------+----------+--------------+----------+----------+-------------------+\n",
      "|           AA|        1|      5117|            AA|         1|     12165| 0.4206329634196465|\n",
      "|           AA|        2|      3688|            AA|         2|     11543|0.31950099627479855|\n",
      "|           AA|        3|      2941|            AA|         3|      9711|0.30285243538255585|\n",
      "|           AA|        4|      3575|            AA|         4|      9894|0.36133009904992924|\n",
      "|           AA|        5|      3525|            AA|         5|      9944|0.35448511665325827|\n",
      "|           AA|        6|      2800|            AA|         6|      8197| 0.3415883859948762|\n",
      "|           AA|        7|      4645|            AA|         7|     11678| 0.3977564651481418|\n",
      "|           AS|        1|       872|            AS|         1|      2454| 0.3553382233088835|\n",
      "|           AS|        2|       669|            AS|         2|      2299|0.29099608525445847|\n",
      "|           AS|        3|       618|            AS|         3|      1854| 0.3333333333333333|\n",
      "|           AS|        4|       728|            AS|         4|      1951| 0.3731419784725782|\n",
      "|           AS|        5|       630|            AS|         5|      1960|0.32142857142857145|\n",
      "|           AS|        6|       517|            AS|         6|      1798| 0.2875417130144605|\n",
      "|           AS|        7|       932|            AS|         7|      2395|0.38914405010438413|\n",
      "|           B6|        1|      1892|            B6|         1|      4130|0.45811138014527847|\n",
      "|           B6|        2|      1787|            B6|         2|      3980|0.44899497487437184|\n",
      "|           B6|        3|      1253|            B6|         3|      3164|0.39601769911504425|\n",
      "|           B6|        4|      1254|            B6|         4|      3276|0.38278388278388276|\n",
      "|           B6|        5|      1309|            B6|         5|      3268|0.40055079559363527|\n",
      "|           B6|        6|      1027|            B6|         6|      2866| 0.3583391486392184|\n",
      "+-------------+---------+----------+--------------+----------+----------+-------------------+\n",
      "only showing top 20 rows\n",
      "\n"
     ]
    },
    {
     "name": "stderr",
     "output_type": "stream",
     "text": [
      "\r",
      "[Stage 137:=================================================>       (7 + 1) / 8]\r",
      "\r",
      "                                                                                \r"
     ]
    },
    {
     "name": "stdout",
     "output_type": "stream",
     "text": [
      "+-------------+---------+----------+--------------+----------+----------+-------------------+\n",
      "|UniqueCarrier|DayOfWeek|delayCount|UniqueCarrier1|DayOfWeek1|totalCount|    normalizedDelay|\n",
      "+-------------+---------+----------+--------------+----------+----------+-------------------+\n",
      "|           AA|        1|      5117|            AA|         1|     12165| 0.4206329634196465|\n",
      "|           AA|        2|      3688|            AA|         2|     11543|0.31950099627479855|\n",
      "|           AA|        3|      2941|            AA|         3|      9711|0.30285243538255585|\n",
      "|           AA|        4|      3575|            AA|         4|      9894|0.36133009904992924|\n",
      "|           AA|        5|      3525|            AA|         5|      9944|0.35448511665325827|\n",
      "|           AA|        6|      2800|            AA|         6|      8197| 0.3415883859948762|\n",
      "|           AA|        7|      4645|            AA|         7|     11678| 0.3977564651481418|\n",
      "|           AS|        1|       872|            AS|         1|      2454| 0.3553382233088835|\n",
      "|           AS|        2|       669|            AS|         2|      2299|0.29099608525445847|\n",
      "|           AS|        3|       618|            AS|         3|      1854| 0.3333333333333333|\n",
      "|           AS|        4|       728|            AS|         4|      1951| 0.3731419784725782|\n",
      "|           AS|        5|       630|            AS|         5|      1960|0.32142857142857145|\n",
      "|           AS|        6|       517|            AS|         6|      1798| 0.2875417130144605|\n",
      "|           AS|        7|       932|            AS|         7|      2395|0.38914405010438413|\n",
      "|           B6|        1|      1892|            B6|         1|      4130|0.45811138014527847|\n",
      "|           B6|        2|      1787|            B6|         2|      3980|0.44899497487437184|\n",
      "|           B6|        3|      1253|            B6|         3|      3164|0.39601769911504425|\n",
      "|           B6|        4|      1254|            B6|         4|      3276|0.38278388278388276|\n",
      "|           B6|        5|      1309|            B6|         5|      3268|0.40055079559363527|\n",
      "|           B6|        6|      1027|            B6|         6|      2866| 0.3583391486392184|\n",
      "+-------------+---------+----------+--------------+----------+----------+-------------------+\n",
      "only showing top 20 rows\n",
      "\n"
     ]
    },
    {
     "name": "stderr",
     "output_type": "stream",
     "text": [
      "\r",
      "[Stage 149:=======>                                                 (1 + 7) / 8]\r",
      "\r",
      "                                                                                \r"
     ]
    },
    {
     "name": "stdout",
     "output_type": "stream",
     "text": [
      "+-------------+---------+----------+--------------+----------+----------+-------------------+\n",
      "|UniqueCarrier|DayOfWeek|delayCount|UniqueCarrier1|DayOfWeek1|totalCount|    normalizedDelay|\n",
      "+-------------+---------+----------+--------------+----------+----------+-------------------+\n",
      "|           AA|        1|      5117|            AA|         1|     12165| 0.4206329634196465|\n",
      "|           AA|        2|      3688|            AA|         2|     11543|0.31950099627479855|\n",
      "|           AA|        3|      2941|            AA|         3|      9711|0.30285243538255585|\n",
      "|           AA|        4|      3575|            AA|         4|      9894|0.36133009904992924|\n",
      "|           AA|        5|      3525|            AA|         5|      9944|0.35448511665325827|\n",
      "|           AA|        6|      2800|            AA|         6|      8197| 0.3415883859948762|\n",
      "|           AA|        7|      4645|            AA|         7|     11678| 0.3977564651481418|\n",
      "|           AS|        1|       872|            AS|         1|      2454| 0.3553382233088835|\n",
      "|           AS|        2|       669|            AS|         2|      2299|0.29099608525445847|\n",
      "|           AS|        3|       618|            AS|         3|      1854| 0.3333333333333333|\n",
      "|           AS|        4|       728|            AS|         4|      1951| 0.3731419784725782|\n",
      "|           AS|        5|       630|            AS|         5|      1960|0.32142857142857145|\n",
      "|           AS|        6|       517|            AS|         6|      1798| 0.2875417130144605|\n",
      "|           AS|        7|       932|            AS|         7|      2395|0.38914405010438413|\n",
      "|           B6|        1|      1892|            B6|         1|      4130|0.45811138014527847|\n",
      "|           B6|        2|      1787|            B6|         2|      3980|0.44899497487437184|\n",
      "|           B6|        3|      1253|            B6|         3|      3164|0.39601769911504425|\n",
      "|           B6|        4|      1254|            B6|         4|      3276|0.38278388278388276|\n",
      "|           B6|        5|      1309|            B6|         5|      3268|0.40055079559363527|\n",
      "|           B6|        6|      1027|            B6|         6|      2866| 0.3583391486392184|\n",
      "+-------------+---------+----------+--------------+----------+----------+-------------------+\n",
      "only showing top 20 rows\n",
      "\n"
     ]
    },
    {
     "name": "stderr",
     "output_type": "stream",
     "text": [
      "                                                                                \r"
     ]
    },
    {
     "name": "stdout",
     "output_type": "stream",
     "text": [
      "+-------------+---------+----------+--------------+----------+----------+-------------------+\n",
      "|UniqueCarrier|DayOfWeek|delayCount|UniqueCarrier1|DayOfWeek1|totalCount|    normalizedDelay|\n",
      "+-------------+---------+----------+--------------+----------+----------+-------------------+\n",
      "|           AA|        1|      5117|            AA|         1|     12165| 0.4206329634196465|\n",
      "|           AA|        2|      3688|            AA|         2|     11543|0.31950099627479855|\n",
      "|           AA|        3|      2941|            AA|         3|      9711|0.30285243538255585|\n",
      "|           AA|        4|      3575|            AA|         4|      9894|0.36133009904992924|\n",
      "|           AA|        5|      3525|            AA|         5|      9944|0.35448511665325827|\n",
      "|           AA|        6|      2800|            AA|         6|      8197| 0.3415883859948762|\n",
      "|           AA|        7|      4645|            AA|         7|     11678| 0.3977564651481418|\n",
      "|           AS|        1|       872|            AS|         1|      2454| 0.3553382233088835|\n",
      "|           AS|        2|       669|            AS|         2|      2299|0.29099608525445847|\n",
      "|           AS|        3|       618|            AS|         3|      1854| 0.3333333333333333|\n",
      "|           AS|        4|       728|            AS|         4|      1951| 0.3731419784725782|\n",
      "|           AS|        5|       630|            AS|         5|      1960|0.32142857142857145|\n",
      "|           AS|        6|       517|            AS|         6|      1798| 0.2875417130144605|\n",
      "|           AS|        7|       932|            AS|         7|      2395|0.38914405010438413|\n",
      "|           B6|        1|      1892|            B6|         1|      4130|0.45811138014527847|\n",
      "|           B6|        2|      1787|            B6|         2|      3980|0.44899497487437184|\n",
      "|           B6|        3|      1253|            B6|         3|      3164|0.39601769911504425|\n",
      "|           B6|        4|      1254|            B6|         4|      3276|0.38278388278388276|\n",
      "|           B6|        5|      1309|            B6|         5|      3268|0.40055079559363527|\n",
      "|           B6|        6|      1027|            B6|         6|      2866| 0.3583391486392184|\n",
      "+-------------+---------+----------+--------------+----------+----------+-------------------+\n",
      "only showing top 20 rows\n",
      "\n"
     ]
    },
    {
     "name": "stderr",
     "output_type": "stream",
     "text": [
      "\r",
      "[Stage 170:==============>  (7 + 1) / 8][Stage 171:>                (0 + 7) / 8]\r",
      "\r",
      "                                                                                \r"
     ]
    },
    {
     "name": "stdout",
     "output_type": "stream",
     "text": [
      "+-------------+---------+----------+--------------+----------+----------+-------------------+\n",
      "|UniqueCarrier|DayOfWeek|delayCount|UniqueCarrier1|DayOfWeek1|totalCount|    normalizedDelay|\n",
      "+-------------+---------+----------+--------------+----------+----------+-------------------+\n",
      "|           AA|        1|      5117|            AA|         1|     12165| 0.4206329634196465|\n",
      "|           AA|        2|      3688|            AA|         2|     11543|0.31950099627479855|\n",
      "|           AA|        3|      2941|            AA|         3|      9711|0.30285243538255585|\n",
      "|           AA|        4|      3575|            AA|         4|      9894|0.36133009904992924|\n",
      "|           AA|        5|      3525|            AA|         5|      9944|0.35448511665325827|\n",
      "|           AA|        6|      2800|            AA|         6|      8197| 0.3415883859948762|\n",
      "|           AA|        7|      4645|            AA|         7|     11678| 0.3977564651481418|\n",
      "|           AS|        1|       872|            AS|         1|      2454| 0.3553382233088835|\n",
      "|           AS|        2|       669|            AS|         2|      2299|0.29099608525445847|\n",
      "|           AS|        3|       618|            AS|         3|      1854| 0.3333333333333333|\n",
      "|           AS|        4|       728|            AS|         4|      1951| 0.3731419784725782|\n",
      "|           AS|        5|       630|            AS|         5|      1960|0.32142857142857145|\n",
      "|           AS|        6|       517|            AS|         6|      1798| 0.2875417130144605|\n",
      "|           AS|        7|       932|            AS|         7|      2395|0.38914405010438413|\n",
      "|           B6|        1|      1892|            B6|         1|      4130|0.45811138014527847|\n",
      "|           B6|        2|      1787|            B6|         2|      3980|0.44899497487437184|\n",
      "|           B6|        3|      1253|            B6|         3|      3164|0.39601769911504425|\n",
      "|           B6|        4|      1254|            B6|         4|      3276|0.38278388278388276|\n",
      "|           B6|        5|      1309|            B6|         5|      3268|0.40055079559363527|\n",
      "|           B6|        6|      1027|            B6|         6|      2866| 0.3583391486392184|\n",
      "+-------------+---------+----------+--------------+----------+----------+-------------------+\n",
      "only showing top 20 rows\n",
      "\n"
     ]
    },
    {
     "name": "stderr",
     "output_type": "stream",
     "text": [
      "\r",
      "[Stage 182:==============>                                          (2 + 6) / 8]\r",
      "\r",
      "                                                                                \r"
     ]
    },
    {
     "name": "stdout",
     "output_type": "stream",
     "text": [
      "+-------------+---------+----------+--------------+----------+----------+-------------------+\n",
      "|UniqueCarrier|DayOfWeek|delayCount|UniqueCarrier1|DayOfWeek1|totalCount|    normalizedDelay|\n",
      "+-------------+---------+----------+--------------+----------+----------+-------------------+\n",
      "|           AA|        1|      5117|            AA|         1|     12165| 0.4206329634196465|\n",
      "|           AA|        2|      3688|            AA|         2|     11543|0.31950099627479855|\n",
      "|           AA|        3|      2941|            AA|         3|      9711|0.30285243538255585|\n",
      "|           AA|        4|      3575|            AA|         4|      9894|0.36133009904992924|\n",
      "|           AA|        5|      3525|            AA|         5|      9944|0.35448511665325827|\n",
      "|           AA|        6|      2800|            AA|         6|      8197| 0.3415883859948762|\n",
      "|           AA|        7|      4645|            AA|         7|     11678| 0.3977564651481418|\n",
      "|           AS|        1|       872|            AS|         1|      2454| 0.3553382233088835|\n",
      "|           AS|        2|       669|            AS|         2|      2299|0.29099608525445847|\n",
      "|           AS|        3|       618|            AS|         3|      1854| 0.3333333333333333|\n",
      "|           AS|        4|       728|            AS|         4|      1951| 0.3731419784725782|\n",
      "|           AS|        5|       630|            AS|         5|      1960|0.32142857142857145|\n",
      "|           AS|        6|       517|            AS|         6|      1798| 0.2875417130144605|\n",
      "|           AS|        7|       932|            AS|         7|      2395|0.38914405010438413|\n",
      "|           B6|        1|      1892|            B6|         1|      4130|0.45811138014527847|\n",
      "|           B6|        2|      1787|            B6|         2|      3980|0.44899497487437184|\n",
      "|           B6|        3|      1253|            B6|         3|      3164|0.39601769911504425|\n",
      "|           B6|        4|      1254|            B6|         4|      3276|0.38278388278388276|\n",
      "|           B6|        5|      1309|            B6|         5|      3268|0.40055079559363527|\n",
      "|           B6|        6|      1027|            B6|         6|      2866| 0.3583391486392184|\n",
      "+-------------+---------+----------+--------------+----------+----------+-------------------+\n",
      "only showing top 20 rows\n",
      "\n"
     ]
    },
    {
     "name": "stderr",
     "output_type": "stream",
     "text": [
      "\r",
      "[Stage 193:=======>                                                 (1 + 7) / 8]\r",
      "\r",
      "                                                                                \r"
     ]
    },
    {
     "name": "stdout",
     "output_type": "stream",
     "text": [
      "+-------------+---------+----------+--------------+----------+----------+-------------------+\n",
      "|UniqueCarrier|DayOfWeek|delayCount|UniqueCarrier1|DayOfWeek1|totalCount|    normalizedDelay|\n",
      "+-------------+---------+----------+--------------+----------+----------+-------------------+\n",
      "|           AA|        1|      5117|            AA|         1|     12165| 0.4206329634196465|\n",
      "|           AA|        2|      3688|            AA|         2|     11543|0.31950099627479855|\n",
      "|           AA|        3|      2941|            AA|         3|      9711|0.30285243538255585|\n",
      "|           AA|        4|      3575|            AA|         4|      9894|0.36133009904992924|\n",
      "|           AA|        5|      3525|            AA|         5|      9944|0.35448511665325827|\n",
      "|           AA|        6|      2800|            AA|         6|      8197| 0.3415883859948762|\n",
      "|           AA|        7|      4645|            AA|         7|     11678| 0.3977564651481418|\n",
      "|           AS|        1|       872|            AS|         1|      2454| 0.3553382233088835|\n",
      "|           AS|        2|       669|            AS|         2|      2299|0.29099608525445847|\n",
      "|           AS|        3|       618|            AS|         3|      1854| 0.3333333333333333|\n",
      "|           AS|        4|       728|            AS|         4|      1951| 0.3731419784725782|\n",
      "|           AS|        5|       630|            AS|         5|      1960|0.32142857142857145|\n",
      "|           AS|        6|       517|            AS|         6|      1798| 0.2875417130144605|\n",
      "|           AS|        7|       932|            AS|         7|      2395|0.38914405010438413|\n",
      "|           B6|        1|      1892|            B6|         1|      4130|0.45811138014527847|\n",
      "|           B6|        2|      1787|            B6|         2|      3980|0.44899497487437184|\n",
      "|           B6|        3|      1253|            B6|         3|      3164|0.39601769911504425|\n",
      "|           B6|        4|      1254|            B6|         4|      3276|0.38278388278388276|\n",
      "|           B6|        5|      1309|            B6|         5|      3268|0.40055079559363527|\n",
      "|           B6|        6|      1027|            B6|         6|      2866| 0.3583391486392184|\n",
      "+-------------+---------+----------+--------------+----------+----------+-------------------+\n",
      "only showing top 20 rows\n",
      "\n",
      "1.29 s ± 218 ms per loop (mean ± std. dev. of 7 runs, 1 loop each)\n"
     ]
    }
   ],
   "source": [
    "%%timeit\n",
    "\n",
    "normalizeFlights()"
   ]
  },
  {
   "cell_type": "markdown",
   "id": "604e85e0",
   "metadata": {},
   "source": [
    "### Q26 \n",
    "\n",
    "Use one of the techniques covered in class to accelerate this query. Time your query to see by how much the run time was improved"
   ]
  },
  {
   "cell_type": "code",
   "execution_count": 25,
   "id": "2e951d64",
   "metadata": {},
   "outputs": [
    {
     "name": "stderr",
     "output_type": "stream",
     "text": [
      "21/11/09 04:29:41 WARN CacheManager: Asked to cache already cached data.        \n",
      "21/11/09 04:29:41 WARN CacheManager: Asked to cache already cached data.\n"
     ]
    },
    {
     "name": "stdout",
     "output_type": "stream",
     "text": [
      "+-------------+---------+----------+--------------+----------+----------+-------------------+\n",
      "|UniqueCarrier|DayOfWeek|delayCount|UniqueCarrier1|DayOfWeek1|totalCount|    normalizedDelay|\n",
      "+-------------+---------+----------+--------------+----------+----------+-------------------+\n",
      "|           AA|        1|      5117|            AA|         1|     12165| 0.4206329634196465|\n",
      "|           AA|        2|      3688|            AA|         2|     11543|0.31950099627479855|\n",
      "|           AA|        3|      2941|            AA|         3|      9711|0.30285243538255585|\n",
      "|           AA|        4|      3575|            AA|         4|      9894|0.36133009904992924|\n",
      "|           AA|        5|      3525|            AA|         5|      9944|0.35448511665325827|\n",
      "|           AA|        6|      2800|            AA|         6|      8197| 0.3415883859948762|\n",
      "|           AA|        7|      4645|            AA|         7|     11678| 0.3977564651481418|\n",
      "|           AS|        1|       872|            AS|         1|      2454| 0.3553382233088835|\n",
      "|           AS|        2|       669|            AS|         2|      2299|0.29099608525445847|\n",
      "|           AS|        3|       618|            AS|         3|      1854| 0.3333333333333333|\n",
      "|           AS|        4|       728|            AS|         4|      1951| 0.3731419784725782|\n",
      "|           AS|        5|       630|            AS|         5|      1960|0.32142857142857145|\n",
      "|           AS|        6|       517|            AS|         6|      1798| 0.2875417130144605|\n",
      "|           AS|        7|       932|            AS|         7|      2395|0.38914405010438413|\n",
      "|           B6|        1|      1892|            B6|         1|      4130|0.45811138014527847|\n",
      "|           B6|        2|      1787|            B6|         2|      3980|0.44899497487437184|\n",
      "|           B6|        3|      1253|            B6|         3|      3164|0.39601769911504425|\n",
      "|           B6|        4|      1254|            B6|         4|      3276|0.38278388278388276|\n",
      "|           B6|        5|      1309|            B6|         5|      3268|0.40055079559363527|\n",
      "|           B6|        6|      1027|            B6|         6|      2866| 0.3583391486392184|\n",
      "+-------------+---------+----------+--------------+----------+----------+-------------------+\n",
      "only showing top 20 rows\n",
      "\n",
      "+-------------+---------+----------+--------------+----------+----------+-------------------+\n",
      "|UniqueCarrier|DayOfWeek|delayCount|UniqueCarrier1|DayOfWeek1|totalCount|    normalizedDelay|\n",
      "+-------------+---------+----------+--------------+----------+----------+-------------------+\n",
      "|           AA|        1|      5117|            AA|         1|     12165| 0.4206329634196465|\n",
      "|           AA|        2|      3688|            AA|         2|     11543|0.31950099627479855|\n",
      "|           AA|        3|      2941|            AA|         3|      9711|0.30285243538255585|\n",
      "|           AA|        4|      3575|            AA|         4|      9894|0.36133009904992924|\n",
      "|           AA|        5|      3525|            AA|         5|      9944|0.35448511665325827|\n",
      "|           AA|        6|      2800|            AA|         6|      8197| 0.3415883859948762|\n",
      "|           AA|        7|      4645|            AA|         7|     11678| 0.3977564651481418|\n",
      "|           AS|        1|       872|            AS|         1|      2454| 0.3553382233088835|\n",
      "|           AS|        2|       669|            AS|         2|      2299|0.29099608525445847|\n",
      "|           AS|        3|       618|            AS|         3|      1854| 0.3333333333333333|\n",
      "|           AS|        4|       728|            AS|         4|      1951| 0.3731419784725782|\n",
      "|           AS|        5|       630|            AS|         5|      1960|0.32142857142857145|\n",
      "|           AS|        6|       517|            AS|         6|      1798| 0.2875417130144605|\n",
      "|           AS|        7|       932|            AS|         7|      2395|0.38914405010438413|\n",
      "|           B6|        1|      1892|            B6|         1|      4130|0.45811138014527847|\n",
      "|           B6|        2|      1787|            B6|         2|      3980|0.44899497487437184|\n",
      "|           B6|        3|      1253|            B6|         3|      3164|0.39601769911504425|\n",
      "|           B6|        4|      1254|            B6|         4|      3276|0.38278388278388276|\n",
      "|           B6|        5|      1309|            B6|         5|      3268|0.40055079559363527|\n",
      "|           B6|        6|      1027|            B6|         6|      2866| 0.3583391486392184|\n",
      "+-------------+---------+----------+--------------+----------+----------+-------------------+\n",
      "only showing top 20 rows\n",
      "\n"
     ]
    },
    {
     "name": "stderr",
     "output_type": "stream",
     "text": [
      "21/11/09 04:29:42 WARN CacheManager: Asked to cache already cached data.\n",
      "21/11/09 04:29:42 WARN CacheManager: Asked to cache already cached data.\n"
     ]
    },
    {
     "name": "stdout",
     "output_type": "stream",
     "text": [
      "+-------------+---------+----------+--------------+----------+----------+-------------------+\n",
      "|UniqueCarrier|DayOfWeek|delayCount|UniqueCarrier1|DayOfWeek1|totalCount|    normalizedDelay|\n",
      "+-------------+---------+----------+--------------+----------+----------+-------------------+\n",
      "|           AA|        1|      5117|            AA|         1|     12165| 0.4206329634196465|\n",
      "|           AA|        2|      3688|            AA|         2|     11543|0.31950099627479855|\n",
      "|           AA|        3|      2941|            AA|         3|      9711|0.30285243538255585|\n",
      "|           AA|        4|      3575|            AA|         4|      9894|0.36133009904992924|\n",
      "|           AA|        5|      3525|            AA|         5|      9944|0.35448511665325827|\n",
      "|           AA|        6|      2800|            AA|         6|      8197| 0.3415883859948762|\n",
      "|           AA|        7|      4645|            AA|         7|     11678| 0.3977564651481418|\n",
      "|           AS|        1|       872|            AS|         1|      2454| 0.3553382233088835|\n",
      "|           AS|        2|       669|            AS|         2|      2299|0.29099608525445847|\n",
      "|           AS|        3|       618|            AS|         3|      1854| 0.3333333333333333|\n",
      "|           AS|        4|       728|            AS|         4|      1951| 0.3731419784725782|\n",
      "|           AS|        5|       630|            AS|         5|      1960|0.32142857142857145|\n",
      "|           AS|        6|       517|            AS|         6|      1798| 0.2875417130144605|\n",
      "|           AS|        7|       932|            AS|         7|      2395|0.38914405010438413|\n",
      "|           B6|        1|      1892|            B6|         1|      4130|0.45811138014527847|\n",
      "|           B6|        2|      1787|            B6|         2|      3980|0.44899497487437184|\n",
      "|           B6|        3|      1253|            B6|         3|      3164|0.39601769911504425|\n",
      "|           B6|        4|      1254|            B6|         4|      3276|0.38278388278388276|\n",
      "|           B6|        5|      1309|            B6|         5|      3268|0.40055079559363527|\n",
      "|           B6|        6|      1027|            B6|         6|      2866| 0.3583391486392184|\n",
      "+-------------+---------+----------+--------------+----------+----------+-------------------+\n",
      "only showing top 20 rows\n",
      "\n"
     ]
    },
    {
     "name": "stderr",
     "output_type": "stream",
     "text": [
      "21/11/09 04:29:42 WARN CacheManager: Asked to cache already cached data.\n",
      "21/11/09 04:29:42 WARN CacheManager: Asked to cache already cached data.\n"
     ]
    },
    {
     "name": "stdout",
     "output_type": "stream",
     "text": [
      "+-------------+---------+----------+--------------+----------+----------+-------------------+\n",
      "|UniqueCarrier|DayOfWeek|delayCount|UniqueCarrier1|DayOfWeek1|totalCount|    normalizedDelay|\n",
      "+-------------+---------+----------+--------------+----------+----------+-------------------+\n",
      "|           AA|        1|      5117|            AA|         1|     12165| 0.4206329634196465|\n",
      "|           AA|        2|      3688|            AA|         2|     11543|0.31950099627479855|\n",
      "|           AA|        3|      2941|            AA|         3|      9711|0.30285243538255585|\n",
      "|           AA|        4|      3575|            AA|         4|      9894|0.36133009904992924|\n",
      "|           AA|        5|      3525|            AA|         5|      9944|0.35448511665325827|\n",
      "|           AA|        6|      2800|            AA|         6|      8197| 0.3415883859948762|\n",
      "|           AA|        7|      4645|            AA|         7|     11678| 0.3977564651481418|\n",
      "|           AS|        1|       872|            AS|         1|      2454| 0.3553382233088835|\n",
      "|           AS|        2|       669|            AS|         2|      2299|0.29099608525445847|\n",
      "|           AS|        3|       618|            AS|         3|      1854| 0.3333333333333333|\n",
      "|           AS|        4|       728|            AS|         4|      1951| 0.3731419784725782|\n",
      "|           AS|        5|       630|            AS|         5|      1960|0.32142857142857145|\n",
      "|           AS|        6|       517|            AS|         6|      1798| 0.2875417130144605|\n",
      "|           AS|        7|       932|            AS|         7|      2395|0.38914405010438413|\n",
      "|           B6|        1|      1892|            B6|         1|      4130|0.45811138014527847|\n",
      "|           B6|        2|      1787|            B6|         2|      3980|0.44899497487437184|\n",
      "|           B6|        3|      1253|            B6|         3|      3164|0.39601769911504425|\n",
      "|           B6|        4|      1254|            B6|         4|      3276|0.38278388278388276|\n",
      "|           B6|        5|      1309|            B6|         5|      3268|0.40055079559363527|\n",
      "|           B6|        6|      1027|            B6|         6|      2866| 0.3583391486392184|\n",
      "+-------------+---------+----------+--------------+----------+----------+-------------------+\n",
      "only showing top 20 rows\n",
      "\n"
     ]
    },
    {
     "name": "stderr",
     "output_type": "stream",
     "text": [
      "21/11/09 04:29:43 WARN CacheManager: Asked to cache already cached data.\n",
      "21/11/09 04:29:43 WARN CacheManager: Asked to cache already cached data.\n"
     ]
    },
    {
     "name": "stdout",
     "output_type": "stream",
     "text": [
      "+-------------+---------+----------+--------------+----------+----------+-------------------+\n",
      "|UniqueCarrier|DayOfWeek|delayCount|UniqueCarrier1|DayOfWeek1|totalCount|    normalizedDelay|\n",
      "+-------------+---------+----------+--------------+----------+----------+-------------------+\n",
      "|           AA|        1|      5117|            AA|         1|     12165| 0.4206329634196465|\n",
      "|           AA|        2|      3688|            AA|         2|     11543|0.31950099627479855|\n",
      "|           AA|        3|      2941|            AA|         3|      9711|0.30285243538255585|\n",
      "|           AA|        4|      3575|            AA|         4|      9894|0.36133009904992924|\n",
      "|           AA|        5|      3525|            AA|         5|      9944|0.35448511665325827|\n",
      "|           AA|        6|      2800|            AA|         6|      8197| 0.3415883859948762|\n",
      "|           AA|        7|      4645|            AA|         7|     11678| 0.3977564651481418|\n",
      "|           AS|        1|       872|            AS|         1|      2454| 0.3553382233088835|\n",
      "|           AS|        2|       669|            AS|         2|      2299|0.29099608525445847|\n",
      "|           AS|        3|       618|            AS|         3|      1854| 0.3333333333333333|\n",
      "|           AS|        4|       728|            AS|         4|      1951| 0.3731419784725782|\n",
      "|           AS|        5|       630|            AS|         5|      1960|0.32142857142857145|\n",
      "|           AS|        6|       517|            AS|         6|      1798| 0.2875417130144605|\n",
      "|           AS|        7|       932|            AS|         7|      2395|0.38914405010438413|\n",
      "|           B6|        1|      1892|            B6|         1|      4130|0.45811138014527847|\n",
      "|           B6|        2|      1787|            B6|         2|      3980|0.44899497487437184|\n",
      "|           B6|        3|      1253|            B6|         3|      3164|0.39601769911504425|\n",
      "|           B6|        4|      1254|            B6|         4|      3276|0.38278388278388276|\n",
      "|           B6|        5|      1309|            B6|         5|      3268|0.40055079559363527|\n",
      "|           B6|        6|      1027|            B6|         6|      2866| 0.3583391486392184|\n",
      "+-------------+---------+----------+--------------+----------+----------+-------------------+\n",
      "only showing top 20 rows\n",
      "\n"
     ]
    },
    {
     "name": "stderr",
     "output_type": "stream",
     "text": [
      "21/11/09 04:29:43 WARN CacheManager: Asked to cache already cached data.\n",
      "21/11/09 04:29:43 WARN CacheManager: Asked to cache already cached data.\n"
     ]
    },
    {
     "name": "stdout",
     "output_type": "stream",
     "text": [
      "+-------------+---------+----------+--------------+----------+----------+-------------------+\n",
      "|UniqueCarrier|DayOfWeek|delayCount|UniqueCarrier1|DayOfWeek1|totalCount|    normalizedDelay|\n",
      "+-------------+---------+----------+--------------+----------+----------+-------------------+\n",
      "|           AA|        1|      5117|            AA|         1|     12165| 0.4206329634196465|\n",
      "|           AA|        2|      3688|            AA|         2|     11543|0.31950099627479855|\n",
      "|           AA|        3|      2941|            AA|         3|      9711|0.30285243538255585|\n",
      "|           AA|        4|      3575|            AA|         4|      9894|0.36133009904992924|\n",
      "|           AA|        5|      3525|            AA|         5|      9944|0.35448511665325827|\n",
      "|           AA|        6|      2800|            AA|         6|      8197| 0.3415883859948762|\n",
      "|           AA|        7|      4645|            AA|         7|     11678| 0.3977564651481418|\n",
      "|           AS|        1|       872|            AS|         1|      2454| 0.3553382233088835|\n",
      "|           AS|        2|       669|            AS|         2|      2299|0.29099608525445847|\n",
      "|           AS|        3|       618|            AS|         3|      1854| 0.3333333333333333|\n",
      "|           AS|        4|       728|            AS|         4|      1951| 0.3731419784725782|\n",
      "|           AS|        5|       630|            AS|         5|      1960|0.32142857142857145|\n",
      "|           AS|        6|       517|            AS|         6|      1798| 0.2875417130144605|\n",
      "|           AS|        7|       932|            AS|         7|      2395|0.38914405010438413|\n",
      "|           B6|        1|      1892|            B6|         1|      4130|0.45811138014527847|\n",
      "|           B6|        2|      1787|            B6|         2|      3980|0.44899497487437184|\n",
      "|           B6|        3|      1253|            B6|         3|      3164|0.39601769911504425|\n",
      "|           B6|        4|      1254|            B6|         4|      3276|0.38278388278388276|\n",
      "|           B6|        5|      1309|            B6|         5|      3268|0.40055079559363527|\n",
      "|           B6|        6|      1027|            B6|         6|      2866| 0.3583391486392184|\n",
      "+-------------+---------+----------+--------------+----------+----------+-------------------+\n",
      "only showing top 20 rows\n",
      "\n"
     ]
    },
    {
     "name": "stderr",
     "output_type": "stream",
     "text": [
      "21/11/09 04:29:44 WARN CacheManager: Asked to cache already cached data.\n",
      "21/11/09 04:29:44 WARN CacheManager: Asked to cache already cached data.\n"
     ]
    },
    {
     "name": "stdout",
     "output_type": "stream",
     "text": [
      "+-------------+---------+----------+--------------+----------+----------+-------------------+\n",
      "|UniqueCarrier|DayOfWeek|delayCount|UniqueCarrier1|DayOfWeek1|totalCount|    normalizedDelay|\n",
      "+-------------+---------+----------+--------------+----------+----------+-------------------+\n",
      "|           AA|        1|      5117|            AA|         1|     12165| 0.4206329634196465|\n",
      "|           AA|        2|      3688|            AA|         2|     11543|0.31950099627479855|\n",
      "|           AA|        3|      2941|            AA|         3|      9711|0.30285243538255585|\n",
      "|           AA|        4|      3575|            AA|         4|      9894|0.36133009904992924|\n",
      "|           AA|        5|      3525|            AA|         5|      9944|0.35448511665325827|\n",
      "|           AA|        6|      2800|            AA|         6|      8197| 0.3415883859948762|\n",
      "|           AA|        7|      4645|            AA|         7|     11678| 0.3977564651481418|\n",
      "|           AS|        1|       872|            AS|         1|      2454| 0.3553382233088835|\n",
      "|           AS|        2|       669|            AS|         2|      2299|0.29099608525445847|\n",
      "|           AS|        3|       618|            AS|         3|      1854| 0.3333333333333333|\n",
      "|           AS|        4|       728|            AS|         4|      1951| 0.3731419784725782|\n",
      "|           AS|        5|       630|            AS|         5|      1960|0.32142857142857145|\n",
      "|           AS|        6|       517|            AS|         6|      1798| 0.2875417130144605|\n",
      "|           AS|        7|       932|            AS|         7|      2395|0.38914405010438413|\n",
      "|           B6|        1|      1892|            B6|         1|      4130|0.45811138014527847|\n",
      "|           B6|        2|      1787|            B6|         2|      3980|0.44899497487437184|\n",
      "|           B6|        3|      1253|            B6|         3|      3164|0.39601769911504425|\n",
      "|           B6|        4|      1254|            B6|         4|      3276|0.38278388278388276|\n",
      "|           B6|        5|      1309|            B6|         5|      3268|0.40055079559363527|\n",
      "|           B6|        6|      1027|            B6|         6|      2866| 0.3583391486392184|\n",
      "+-------------+---------+----------+--------------+----------+----------+-------------------+\n",
      "only showing top 20 rows\n",
      "\n"
     ]
    },
    {
     "name": "stderr",
     "output_type": "stream",
     "text": [
      "21/11/09 04:29:44 WARN CacheManager: Asked to cache already cached data.\n",
      "21/11/09 04:29:44 WARN CacheManager: Asked to cache already cached data.\n"
     ]
    },
    {
     "name": "stdout",
     "output_type": "stream",
     "text": [
      "+-------------+---------+----------+--------------+----------+----------+-------------------+\n",
      "|UniqueCarrier|DayOfWeek|delayCount|UniqueCarrier1|DayOfWeek1|totalCount|    normalizedDelay|\n",
      "+-------------+---------+----------+--------------+----------+----------+-------------------+\n",
      "|           AA|        1|      5117|            AA|         1|     12165| 0.4206329634196465|\n",
      "|           AA|        2|      3688|            AA|         2|     11543|0.31950099627479855|\n",
      "|           AA|        3|      2941|            AA|         3|      9711|0.30285243538255585|\n",
      "|           AA|        4|      3575|            AA|         4|      9894|0.36133009904992924|\n",
      "|           AA|        5|      3525|            AA|         5|      9944|0.35448511665325827|\n",
      "|           AA|        6|      2800|            AA|         6|      8197| 0.3415883859948762|\n",
      "|           AA|        7|      4645|            AA|         7|     11678| 0.3977564651481418|\n",
      "|           AS|        1|       872|            AS|         1|      2454| 0.3553382233088835|\n",
      "|           AS|        2|       669|            AS|         2|      2299|0.29099608525445847|\n",
      "|           AS|        3|       618|            AS|         3|      1854| 0.3333333333333333|\n",
      "|           AS|        4|       728|            AS|         4|      1951| 0.3731419784725782|\n",
      "|           AS|        5|       630|            AS|         5|      1960|0.32142857142857145|\n",
      "|           AS|        6|       517|            AS|         6|      1798| 0.2875417130144605|\n",
      "|           AS|        7|       932|            AS|         7|      2395|0.38914405010438413|\n",
      "|           B6|        1|      1892|            B6|         1|      4130|0.45811138014527847|\n",
      "|           B6|        2|      1787|            B6|         2|      3980|0.44899497487437184|\n",
      "|           B6|        3|      1253|            B6|         3|      3164|0.39601769911504425|\n",
      "|           B6|        4|      1254|            B6|         4|      3276|0.38278388278388276|\n",
      "|           B6|        5|      1309|            B6|         5|      3268|0.40055079559363527|\n",
      "|           B6|        6|      1027|            B6|         6|      2866| 0.3583391486392184|\n",
      "+-------------+---------+----------+--------------+----------+----------+-------------------+\n",
      "only showing top 20 rows\n",
      "\n",
      "526 ms ± 32.4 ms per loop (mean ± std. dev. of 7 runs, 1 loop each)\n"
     ]
    }
   ],
   "source": [
    "%%timeit\n",
    "\n",
    "df_with_total_flights.cache()\n",
    "day_delay_normalized.cache()\n",
    "\n",
    "normalizeFlights()"
   ]
  },
  {
   "cell_type": "code",
   "execution_count": 26,
   "id": "8671cab4",
   "metadata": {},
   "outputs": [],
   "source": [
    "#caching resulted in an improvement of around 350ms from 906ms to 546ms"
   ]
  },
  {
   "cell_type": "markdown",
   "id": "8a87a433",
   "metadata": {},
   "source": [
    "### Q27 \n",
    "\n",
    "Is the departure delay (i.e., DepTime - CRSDepTime) predictive of the arrival delay (ArrTime > CRSArrTime)?\n",
    "Use an approach of your choice (e.g. `skelearn` which we covered in class or `Spark`) to model as a linear regression the arrival delay as a function of the departure delay. \n",
    "\n"
   ]
  },
  {
   "cell_type": "code",
   "execution_count": 39,
   "id": "f8dbd52d",
   "metadata": {},
   "outputs": [
    {
     "name": "stdout",
     "output_type": "stream",
     "text": [
      "+-----+-----+\n",
      "|    X|    Y|\n",
      "+-----+-----+\n",
      "| 37.0| 73.0|\n",
      "| 13.0|  2.0|\n",
      "| 17.0| 65.0|\n",
      "|  7.0|  3.0|\n",
      "| 45.0| 36.0|\n",
      "| 23.0| 20.0|\n",
      "|  1.0| 11.0|\n",
      "|121.0|273.0|\n",
      "|  6.0|  1.0|\n",
      "| 10.0| 60.0|\n",
      "| 96.0|108.0|\n",
      "| 97.0| 59.0|\n",
      "|  4.0| 15.0|\n",
      "| 54.0|  1.0|\n",
      "|  5.0| 59.0|\n",
      "| 86.0| 77.0|\n",
      "|  7.0| 12.0|\n",
      "|110.0| 98.0|\n",
      "| 53.0|  5.0|\n",
      "|175.0|119.0|\n",
      "+-----+-----+\n",
      "only showing top 20 rows\n",
      "\n"
     ]
    }
   ],
   "source": [
    "import numpy as np\n",
    "from sklearn import datasets, linear_model\n",
    "from sklearn.linear_model import LinearRegression\n",
    "from matplotlib import pyplot as plt\n",
    "from sklearn.metrics import mean_squared_error, r2_score\n",
    "\n",
    "dep_vs_arr_delay = flight_info\\\n",
    "    .filter((flight_info.DepTime > 0) & \\\n",
    "            (flight_info.ArrTime > 0)) \\\n",
    "    .select((func.col(\"DepTime\") - func.col(\"CRSDepTime\")).alias(\"X\"), \\\n",
    "            (func.col(\"ArrTime\") - func.col(\"CRSArrTime\")).alias(\"Y\")) \\\n",
    "    .filter((func.col(\"X\") > 0) & (func.col(\"Y\") > 0))\n",
    "\n",
    "dep_vs_arr_delay.show()\n"
   ]
  },
  {
   "cell_type": "code",
   "execution_count": 40,
   "id": "c52c1c24",
   "metadata": {},
   "outputs": [
    {
     "name": "stderr",
     "output_type": "stream",
     "text": [
      "\r",
      "[Stage 301:=======>                                                 (1 + 7) / 8]\r",
      "\r",
      "                                                                                \r"
     ]
    }
   ],
   "source": [
    "regr = linear_model.LinearRegression()\n",
    "\n",
    "delay_X = dep_vs_arr_delay.select(\"X\").collect()\n",
    "delay_Y = dep_vs_arr_delay.select(\"Y\").collect()\n",
    "\n",
    "regr.fit(delay_X, delay_Y)\n",
    "\n",
    "regr_y_pred = regr.predict(delay_X)"
   ]
  },
  {
   "cell_type": "code",
   "execution_count": 43,
   "id": "ec92bdda",
   "metadata": {},
   "outputs": [
    {
     "data": {
      "image/png": "[encoded data removed]",
      "text/plain": [
       "<Figure size 432x288 with 1 Axes>"
      ]
     },
     "metadata": {
      "needs_background": "light"
     },
     "output_type": "display_data"
    }
   ],
   "source": [
    "plt.scatter(delay_X, delay_Y, color=\"red\", s=2, alpha=0.1)\n",
    "plt.plot(delay_X, regr_y_pred, color=\"black\", linewidth=1)\n",
    "\n",
    "plt.rcParams['figure.figsize'] = [10, 5]\n",
    "\n",
    "plt.xticks()\n",
    "plt.yticks()\n",
    "\n",
    "plt.grid(True)\n",
    "\n",
    "plt.show()\n",
    "\n"
   ]
  },
  {
   "cell_type": "code",
   "execution_count": 42,
   "id": "1aee02ed",
   "metadata": {},
   "outputs": [
    {
     "name": "stdout",
     "output_type": "stream",
     "text": [
      "Coefficients: \n",
      " [[0.88673183]]\n",
      "Mean squared error: 128.17\n",
      "Coefficient of determination: 0.48\n"
     ]
    }
   ],
   "source": [
    "print(\"Coefficients: \\n\", regr.coef_)\n",
    "print(\"Mean squared error: %.2f\" % mean_squared_error(delay_X, regr_y_pred))\n",
    "print(\"Coefficient of determination: %.2f\" % r2_score(delay_Y, regr_y_pred))"
   ]
  },
  {
   "cell_type": "markdown",
   "id": "4269b2c6",
   "metadata": {},
   "source": [
    "With an R2 of .48, departure delay has a slight correlation with arrival delay."
   ]
  },
  {
   "cell_type": "code",
   "execution_count": null,
   "id": "7c293b24",
   "metadata": {},
   "outputs": [],
   "source": []
  }
 ],
 "metadata": {
  "kernelspec": {
   "display_name": "Python 3 (ipykernel)",
   "language": "python",
   "name": "python3"
  },
  "language_info": {
   "codemirror_mode": {
    "name": "ipython",
    "version": 3
   },
   "file_extension": ".py",
   "mimetype": "text/x-python",
   "name": "python",
   "nbconvert_exporter": "python",
   "pygments_lexer": "ipython3",
   "version": "3.9.7"
  }
 },
 "nbformat": 4,
 "nbformat_minor": 5
}
